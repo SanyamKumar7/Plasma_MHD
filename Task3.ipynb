{
 "cells": [
  {
   "cell_type": "markdown",
   "metadata": {},
   "source": [
    "Solving the mean field $\\alpha - \\Omega $ dynamo equation in the kinematic region:\n",
    "$$\n",
    "\\begin{aligned}\n",
    "&\\begin{aligned}\n",
    "& \\frac{\\partial \\bar{B}_r}{\\partial t}= \\eta \\frac{\\partial}{\\partial r}\\left[\\frac{1}{r} \\frac{\\partial}{\\partial r}\\left(r \\bar{B}_r\\right)\\right]-\\eta \\frac{\\partial^2 \\bar{B}_r}{\\partial z^2} -\\frac{\\partial \\alpha \\bar{B}_\\phi}{\\partial z}, \\\\\n",
    "& \\frac{\\partial \\bar{B}_\\phi}{\\partial t}=\\eta \\frac{\\partial}{\\partial r}\\left[\\frac{1}{r} \\frac{\\partial}{\\partial r}\\left(r \\bar{B}_\\phi\\right)\\right] -\\eta \\frac{\\partial^2 \\bar{B}_\\phi}{\\partial z^2} -q\\Omega \\bar{B}_r\\\\\n",
    "\\end{aligned}\n",
    "\\end{aligned}\n",
    "$$\n",
    "\n",
    "Using no-z approximtion and expressing $q\\Omega$ in terms of Dynamo number. Take $\\eta \\sim \\eta_t$ We get the equations as follows:\n",
    "$$\n",
    "\\begin{aligned}\n",
    "&\\begin{aligned}\n",
    "& \\frac{\\partial \\bar{B}_r}{\\partial t}= \\eta \\frac{\\partial}{\\partial r}\\left[\\frac{1}{r} \\frac{\\partial}{\\partial r}\\left(r \\bar{B}_r\\right)\\right] - \\eta \\frac{\\pi^2}{4h^2} \\bar{B}_r - \\frac{2}{\\pi h}\\alpha \\bar{B}_\\phi, \\\\\n",
    "& \\frac{\\partial \\bar{B}_\\phi}{\\partial t}=\\eta \\frac{\\partial}{\\partial r}\\left[\\frac{1}{r} \\frac{\\partial}{\\partial r}\\left(r \\bar{B}_\\phi\\right)\\right] -\\eta \\frac{\\pi^2}{4h^2}\\bar{B_\\phi} -q\\Omega \\bar{B}_r\\\\\n",
    "\\end{aligned}\n",
    "\\end{aligned}\n",
    "$$\n",
    "\n",
    "Now making the same equations dimensionless, we get:\n",
    "$$\n",
    "\\begin{aligned}\n",
    "&\\begin{aligned}\n",
    "& \\frac{\\partial \\bar{B}_r}{\\partial t}= \\left(\\frac{h_0}{R_0}\\right)^2 \\frac{\\partial}{\\partial r}\\left[\\frac{1}{r} \\frac{\\partial}{\\partial r}\\left(r \\bar{B}_r\\right)\\right] - \\frac{\\pi^2 \\bar{B}_r}{4} - \\frac{2}{\\pi}\\alpha \\bar{B}_\\phi, \\\\\n",
    "& \\frac{\\partial \\bar{B}_\\phi}{\\partial t}=\\left(\\frac{h_0}{R_0}\\right)^2 \\frac{\\partial}{\\partial r}\\left[\\frac{1}{r} \\frac{\\partial}{\\partial r}\\left(r \\bar{B}_\\phi\\right)\\right] - \\frac{\\pi^2}{4}\\bar{B_\\phi} + r\\frac{d\\Omega}{dr}  \\bar{B}_r\\\\\n",
    "\\end{aligned}\n",
    "\\end{aligned}\n",
    "$$\n",
    "\n",
    "Putting $h_0=R_0$, we get:\n",
    "$$\n",
    "\\begin{aligned}\n",
    "&\\begin{aligned}\n",
    "& \\frac{\\partial \\bar{B}_r}{\\partial t}= \\frac{\\partial}{\\partial r}\\left[\\frac{1}{r} \\frac{\\partial}{\\partial r}\\left(r \\bar{B}_r\\right)\\right] - \\frac{\\pi^2 \\bar{B}_r}{4} - \\frac{2}{\\pi}\\alpha \\bar{B}_\\phi, \\\\\n",
    "& \\frac{\\partial \\bar{B}_\\phi}{\\partial t}= \\frac{\\partial}{\\partial r}\\left[\\frac{1}{r} \\frac{\\partial}{\\partial r}\\left(r \\bar{B}_\\phi\\right)\\right] - \\frac{\\pi^2}{4}\\bar{B_\\phi} + r\\frac{d\\Omega}{dr}  \\bar{B}_r\\\\\n",
    "\\end{aligned}\n",
    "\\end{aligned}\n",
    "$$\n"
   ]
  },
  {
   "cell_type": "markdown",
   "metadata": {},
   "source": [
    "#### Some Definations"
   ]
  },
  {
   "cell_type": "code",
   "execution_count": null,
   "metadata": {},
   "outputs": [],
   "source": [
    "# Librarires\n",
    "import numpy as np\n",
    "import matplotlib.pyplot as plt\n",
    "\n",
    "#Define Constants\n",
    "omega_0 = 300\n",
    "h0= 0.5\n",
    "\n",
    "#Define radial grid parameters\n",
    "r_min = 0.01   # Minimum radial coordinate\n",
    "r_max = 10.0   # Maximum radial coordinate\n",
    "Nr = 100      # Number of grid points\n",
    "r_values = np.linspace(r_min, r_max, Nr) # Create radial grid\n",
    "dr= (r_max - r_min)/Nr\n",
    "\n",
    "#Define Time parameters\n",
    "t_min = 0\n",
    "t_max = 3\n",
    "Nt = 1000 \n",
    "t_values= np.linspace(t_min,t_max,Nt)\n",
    "dt = (t_max - t_min)/Nt\n",
    "\n",
    "# Define the number of ghost zones\n",
    "num_ghost_zones = 5\n",
    "\n",
    "#extend the grid\n",
    "r_min_new= r_min- num_ghost_zones*dr\n",
    "r_max_new =  r_max + num_ghost_zones*dr\n",
    "\n",
    "Nr_new= Nr+ 2*num_ghost_zones+1\n",
    "r_values= np.linspace(r_min_new,r_max_new,Nr_new)\n",
    "Nr=Nr_new\n",
    "#Define spatial dependence of Ω and α.\n",
    "omega = omega_0 / (1+(r_values/2)**2)**0.5"
   ]
  },
  {
   "cell_type": "code",
   "execution_count": null,
   "metadata": {},
   "outputs": [],
   "source": [
    "def DynamoNumber(alph):\n",
    "    q = -(r_values/omega) * np.gradient(omega, r_values)\n",
    "    D = - alph * q * omega * h0**3\n",
    "    print(\"Dynamo Number =\", np.mean(D))"
   ]
  },
  {
   "cell_type": "markdown",
   "metadata": {},
   "source": [
    "#### Plot the initial magnetic fields"
   ]
  },
  {
   "cell_type": "code",
   "execution_count": null,
   "metadata": {},
   "outputs": [],
   "source": [
    "#Define initial seed magnetic field\n",
    "x=np.linspace(0,10,Nr)\n",
    "# Br_Orig=  np.sin(2*np.pi*r_values) \n",
    "# Bphi_Orig= 0\n",
    "\n",
    "#Define initial see magnetic field\n",
    "Br_Orig = np.sin(np.pi*(r_min-r_values)/(r_max-r_min))\n",
    "Bphi_Orig = (-1)*np.sin(np.pi*(r_min-r_values)/(r_max-r_min))"
   ]
  },
  {
   "cell_type": "markdown",
   "metadata": {},
   "source": [
    "#### Coupled Equations to be Solved"
   ]
  },
  {
   "cell_type": "code",
   "execution_count": null,
   "metadata": {},
   "outputs": [],
   "source": [
    "#Define coupled equations\n",
    "def coupled(B_r,B_phi,alpha):\n",
    "    dBr_dt= - (np.pi**2 *B_r)/(4) - (2/np.pi)*alpha*B_phi\n",
    "    dBphi_dt= - (np.pi**2 *B_phi)/(4)\n",
    "    return np.array([dBr_dt,dBphi_dt])"
   ]
  },
  {
   "cell_type": "markdown",
   "metadata": {},
   "source": [
    "#### RK4 Method"
   ]
  },
  {
   "cell_type": "code",
   "execution_count": null,
   "metadata": {},
   "outputs": [],
   "source": [
    "def rk4_step(B__r,B__phi,alpha):\n",
    "    k1 = dt * coupled(B__r, B__phi,alpha)\n",
    "    k2 = dt * coupled(B__r + 0.5 * k1[0], B__phi + k1[1] * 0.5,alpha)\n",
    "    k3 = dt * coupled(B__r + 0.5 * k2[0], B__phi + k2[1] * 0.5,alpha)\n",
    "    k4 = dt * coupled(B__r + k3[0], B__phi + k3[1],alpha)\n",
    "\n",
    "    X = B__r + (k1[0] + 2*k2[0] + 2*k3[0] + k4[0]) / 6\n",
    "    Y = B__phi + (k1[1] + 2*k2[1] + 2*k3[1] + k4[1]) / 6\n",
    "    \n",
    "    #Define BCs\n",
    "    X[5]=0\n",
    "    X[-6]=0\n",
    "    Y[-6]=0\n",
    "    Y[5]=0\n",
    "    \n",
    "    for iter in range(num_ghost_zones):\n",
    "        X[5-iter]=X[5+iter]\n",
    "        Y[5-iter]=Y[5+iter]\n",
    "        X[-6+iter]=X[-6-iter]\n",
    "        Y[-6+iter]=X[-6-iter]\n",
    "    return X,Y"
   ]
  },
  {
   "cell_type": "markdown",
   "metadata": {},
   "source": [
    "#### Plotting the Initial Magnetic fields"
   ]
  },
  {
   "cell_type": "code",
   "execution_count": null,
   "metadata": {},
   "outputs": [],
   "source": [
    "def InitialPlot():\n",
    "    # Plot Br\n",
    "    plt.figure(figsize=(16, 9))\n",
    "    plt.subplot(1, 2, 1)\n",
    "    plt.plot(r_values, Br_Orig, color='blue')\n",
    "    plt.title('Br vs r_values')\n",
    "    plt.xlabel('radius')\n",
    "    plt.ylabel('Br')\n",
    "    plt.grid(True)\n",
    "    plt.axvline(x=0, color='r', linestyle='--', linewidth=2, label='Vertical Line')\n",
    "\n",
    "    # Plot Bphi\n",
    "    plt.subplot(1, 2, 2)\n",
    "    plt.plot(r_values, Bphi_Orig, color='red')\n",
    "    plt.title('Bphi vs r_values')\n",
    "    plt.xlabel('radius')\n",
    "    plt.ylabel('Bphi')\n",
    "    plt.grid(True)\n",
    "\n",
    "    plt.tight_layout()\n",
    "    plt.show()"
   ]
  },
  {
   "cell_type": "markdown",
   "metadata": {},
   "source": [
    "#### Plotting the evolution of $B_\\phi$ & $B_r$ at time steps for a given spatial point."
   ]
  },
  {
   "cell_type": "code",
   "execution_count": null,
   "metadata": {},
   "outputs": [],
   "source": [
    "def MagVsradial(Br_Evolution,Bphi_Evolution,alpha):        \n",
    "    # Plot the spatial solution for Br\n",
    "    plt.figure(figsize=(16, 9))\n",
    "    plt.subplot(1, 2, 1)\n",
    "    for t in range(0, Nt + 1, Nt // 10):  # Plot every 10th time step\n",
    "        plt.plot(r_values, Br_Evolution[t, :], label=f'Time = {t * dt:.2f}')\n",
    "    plt.xlabel('Radial Distance (R)')\n",
    "    plt.ylabel(r'$B_r$')\n",
    "    plt.title(r'Spatial Solution for $B_r$ at Different Time Steps')\n",
    "    plt.legend()\n",
    "    plt.tight_layout()\n",
    "    \n",
    "\n",
    "    # Plot the spatial solution for Bphi\n",
    "    plt.subplot(1, 2, 2)\n",
    "    for t in range(0, Nt + 1, Nt // 10):  # Plot every 10th time step\n",
    "        plt.plot(r_values, Bphi_Evolution[t, :], label=f'Time = {t * dt:.2f}')\n",
    "    plt.xlabel('Radial Distance (R)')\n",
    "    plt.ylabel(r'$B_\\phi$')\n",
    "    plt.title(r'Spatial Solution for $B_\\phi$ at Different Time Steps')\n",
    "    plt.legend()\n",
    "    plt.tight_layout()\n",
    "    plt.show()"
   ]
  },
  {
   "cell_type": "markdown",
   "metadata": {},
   "source": [
    "#### Plotting $Log_{10} \\left(\\sqrt{B_r^2 + B_\\phi^2}\\right)$ Vs Time)"
   ]
  },
  {
   "cell_type": "code",
   "execution_count": null,
   "metadata": {},
   "outputs": [],
   "source": [
    "# Seems slightly complicated but let's get on with it\n",
    "def LogB_T(Br_Evolution,Bphi_Evolution):\n",
    "    result=[]\n",
    "    for i in range(len(Br_Evolution)):\n",
    "        test = 0\n",
    "        for j in range(len(Br_Evolution[0])):\n",
    "            test = test + (Br_Evolution[i][j]**2 + Bphi_Evolution[i][j]**2)**0.5\n",
    "        result.append(test/len(Br_Evolution[0]))\n",
    "\n",
    "    plt.figure(figsize=(12, 6))\n",
    "    plt.plot(np.linspace(0, t_max, Nt + 1),np.log10(np.abs(result)))\n",
    "    plt.xlabel('Time')\n",
    "    plt.ylabel(r'$\\log_{10}(B)$')\n",
    "    plt.title(r'$Log_{10} \\left(\\sqrt{B_r^2 + B_\\phi^2}\\right)$ Vs Time')\n",
    "    plt.legend([f'r={r_values[i]:.2f}' for i in range(0, Nr, Nr//10)])\n",
    "    plt.tight_layout()\n",
    "    plt.show()"
   ]
  },
  {
   "cell_type": "markdown",
   "metadata": {},
   "source": [
    "#### Finding the Global Gamma\n",
    "\n",
    "For different values of alpha, the slope of the tail of Log(B) Vs time plot is taken. \n",
    "Whenever the slope changes sign from negative to positive. \n",
    "The corresponding two alpha values is used to calculate the average alpha, which is further used to find the critical Dynamo Number."
   ]
  },
  {
   "cell_type": "code",
   "execution_count": null,
   "metadata": {},
   "outputs": [],
   "source": [
    "def Gamma(alpha):\n",
    "    Store=[]\n",
    "    for i in alpha:\n",
    "        Br_t = np.zeros((Nt + 1, Nr))\n",
    "        Bphi_t = np.zeros((Nt + 1, Nr))\n",
    "        Br=Br_Orig\n",
    "        Bphi=Bphi_Orig\n",
    "        for t in range(Nt + 1):\n",
    "            Br_t[t, :] = np.copy(Br)\n",
    "            Bphi_t[t, :] = np.copy(Bphi)\n",
    "            Br,Bphi= rk4_step(Br,Bphi,i)\n",
    "        \n",
    "        result=[]\n",
    "        for i in range(len(Br_t)):\n",
    "            test = 0\n",
    "            for j in range(len(Br_t[0])):\n",
    "                test = test + (Br_t[i][j]**2 + Bphi_t[i][j]**2)**0.5\n",
    "            result.append(test/len(Br_t[0]))\n",
    "        \n",
    "        slope, intercept = np.polyfit(t_values[-20:], result[-20:], 1)\n",
    "        Store.append(slope)\n",
    "        if(Store[-1]>0 and Store[-2]<0):\n",
    "            return (alpha[len(Store)-1]+alpha[len(Store)-2])/2"
   ]
  },
  {
   "cell_type": "code",
   "execution_count": null,
   "metadata": {},
   "outputs": [],
   "source": [
    "def Gamma_BC(alpha):\n",
    "    Store=[]\n",
    "    for i in alpha:\n",
    "        Br_t = np.zeros((Nt + 1, Nr))\n",
    "        Bphi_t = np.zeros((Nt + 1, Nr))\n",
    "        Br=Br_Orig\n",
    "        Bphi=Bphi_Orig\n",
    "        for t in range(Nt + 1):\n",
    "            Br[0]=0\n",
    "            Br[-1]=0\n",
    "            Bphi[0]=0\n",
    "            Bphi[-1]=0\n",
    "                \n",
    "            Br_t[t, :] = np.copy(Br)\n",
    "            Bphi_t[t, :] = np.copy(Bphi)\n",
    "            Br,Bphi= rk4_step(Br,Bphi,i)\n",
    "        \n",
    "        result=[]\n",
    "        for i in range(len(Br_t)):\n",
    "            test = 0\n",
    "            for j in range(len(Br_t[0])):\n",
    "                test = test + (Br_t[i][j]**2 + Bphi_t[i][j]**2)**0.5\n",
    "            result.append(test/len(Br_t[0]))\n",
    "        \n",
    "        slope, intercept = np.polyfit(t_values[-20:], result[-20:], 1)\n",
    "        Store.append(slope)\n",
    "        if(Store[-1]>0 and Store[-2]<0):\n",
    "            return (alpha[len(Store)-1]+alpha[len(Store)-2])/2"
   ]
  },
  {
   "cell_type": "markdown",
   "metadata": {},
   "source": [
    "#### Pitch Angle"
   ]
  },
  {
   "cell_type": "code",
   "execution_count": null,
   "metadata": {},
   "outputs": [],
   "source": [
    "def Pitch(Br_Evolution,Bphi_Evolution):\n",
    "    # Function to compute the pitch angle\n",
    "    def Pitch_angle(Br, Bphi):\n",
    "        return np.arctan2(Br, Bphi)\n",
    "\n",
    "    # Store the evolution of pitch angle at different time steps\n",
    "    evolution_pitch = np.zeros((Nt + 1, Nr))\n",
    "\n",
    "    # Time-stepping scheme using Runge-Kutta\n",
    "    for t in range(Nt + 1):\n",
    "        evolution_pitch[t, :] = Pitch_angle(Br_Evolution[t, :], Bphi_Evolution[t, :])\n",
    "\n",
    "    # Plot the spatial solution for the pitch angle\n",
    "    plt.figure(figsize=(20, 6))\n",
    "    for t in range(0, Nt + 1, Nt // 10):  # Plot every 10th time step\n",
    "        plt.plot(r_values, evolution_pitch[t, :], label=f'Time = {t * dt:.2f}')\n",
    "    plt.xlabel('Radial Distance (R)')\n",
    "    plt.ylabel('Pitch Angle (p)')\n",
    "    plt.title('Spatial Solution for Pitch Angle at Different Time Steps')\n",
    "    plt.legend()\n",
    "    plt.tight_layout()\n",
    "    plt.show()"
   ]
  },
  {
   "cell_type": "markdown",
   "metadata": {},
   "source": [
    "# Finally calling the equations to get the output"
   ]
  },
  {
   "cell_type": "code",
   "execution_count": null,
   "metadata": {},
   "outputs": [],
   "source": [
    "# Define the alpha\n",
    "# alpha= [i for i in range(0,11,2)]\n",
    "\n",
    "alpha = [1,5,10,15]\n",
    "# Plotting the initial magnetic fields\n",
    "InitialPlot()\n",
    "\n",
    "for i in alpha:\n",
    "    print('For alpha value=',i,'\\n\\n\\n')\n",
    "    Br_t = np.zeros((Nt + 1, Nr))\n",
    "    Bphi_t = np.zeros((Nt + 1, Nr))\n",
    "    Br=Br_Orig\n",
    "    Bphi=Bphi_Orig\n",
    "    for t in range(Nt + 1):\n",
    "        Br_t[t, :] = np.copy(Br)\n",
    "        Bphi_t[t, :] = np.copy(Bphi)\n",
    "        Br,Bphi= rk4_step(Br,Bphi,i)\n",
    "\n",
    "    #Dynamo Number\n",
    "    #DynamoNumber(i)\n",
    "    \n",
    "    #Plotting the evolution of Br and Bphi against time for different radial distance.\n",
    "    MagVsradial(Br_t,Bphi_t,i)\n",
    "\n",
    "    #Defining the pitch\n",
    "    Pitch(Br_t,Bphi_t)\n",
    "    \n",
    "    #Plotting Log B Vs Time to obtain the global gamma value\n",
    "    LogB_T(Br_t,Bphi_t)\n",
    "\n",
    "#finding Dc\n",
    "# Req= Gamma(np.linspace(2.5,5,10))\n",
    "# print('The Crtical Dynamo number is', Req,'r * dΩ/dr$')\n"
   ]
  },
  {
   "cell_type": "code",
   "execution_count": null,
   "metadata": {},
   "outputs": [],
   "source": [
    "import numpy as np\n",
    "import matplotlib.pyplot as plt\n",
    "from matplotlib.animation import FuncAnimation\n",
    "from IPython.display import HTML, display\n",
    "\n",
    "\n",
    "x_value = r_values\n",
    "y_vlues = Br_t\n",
    "plots = []\n",
    "times = []\n",
    "\n",
    "x_lim = (r_min,r_max)\n",
    "y_lim = (-1.5,0.2)\n",
    "\n",
    "for t in range(0, Nt + 1, Nt // 10):\n",
    "    plt.ioff()\n",
    "    plt.figure(figsize=(16, 9))\n",
    "    plt.xlim(x_lim)\n",
    "    plt.ylim(y_lim)\n",
    "    plot, = plt.plot(r_values, Br_t[t, :], label=f'Time = {t * dt:.2f}')\n",
    "    plt.clf()\n",
    "    \n",
    "    \n",
    "    times.append(t * dt)\n",
    "    plots.append(plot)\n",
    "    plt.xlabel('Radial Distance (kpc)')\n",
    "    plt.ylabel(r'$B_r$')\n",
    "    plt.title(r'Spatial Solution for $B_r$ at Different Time Steps')\n",
    "    plt.legend()\n",
    "    plt.tight_layout()\n",
    "    #plt.figure()\n",
    "    plt.ion()\n",
    "    \n",
    "\n",
    "# Define the animation function\n",
    "def animate(frame):\n",
    "    # Clear the current figure\n",
    "    plt.clf()    \n",
    "    # Plot the plot object corresponding to the current frame\n",
    "    plot = plots[frame]\n",
    "    plt.xlim(x_lim)\n",
    "    plt.ylim(y_lim)\n",
    "    plt.plot(plot.get_xdata(), plot.get_ydata(), label=f'Time = {times[frame]:.2f}')  # Plot the selected plot\n",
    "    plt.xlabel('Radial Distance (kpc)')\n",
    "    plt.ylabel(r'$B_r$(T)')\n",
    "    plt.title(r'Spatial Solution for $B_r$ at Different Time Steps')\n",
    "    plt.legend()\n",
    "    plt.tight_layout()\n",
    "\n",
    "    return [plot]  # Return a list of updated plot objects\n",
    "\n",
    "plt.rcParams['animation.ffmpeg_path'] = 'C:\\\\FFmpeg\\\\bin\\\\ffmpeg.exe'\n",
    "ani = FuncAnimation(plt.gcf(), animate, frames=len(plots), blit=True)\n",
    "video = ani.to_html5_video()\n",
    "html = HTML(video)\n",
    "display(html)\n"
   ]
  }
 ],
 "metadata": {
  "kernelspec": {
   "display_name": "Python 3",
   "language": "python",
   "name": "python3"
  },
  "language_info": {
   "codemirror_mode": {
    "name": "ipython",
    "version": 3
   },
   "file_extension": ".py",
   "mimetype": "text/x-python",
   "name": "python",
   "nbconvert_exporter": "python",
   "pygments_lexer": "ipython3",
   "version": "3.11.2"
  }
 },
 "nbformat": 4,
 "nbformat_minor": 2
}
